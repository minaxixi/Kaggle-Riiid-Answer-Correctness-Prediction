{
 "cells": [
  {
   "cell_type": "code",
   "execution_count": 2,
   "metadata": {},
   "outputs": [],
   "source": [
    "import numpy as np\n",
    "import random\n",
    "import pandas as pd\n",
    "import joblib\n",
    "import os"
   ]
  },
  {
   "cell_type": "code",
   "execution_count": 3,
   "metadata": {
    "_cell_guid": "79c7e3d0-c299-4dcb-8224-4455121ee9b0",
    "_uuid": "d629ff2d2480ee46fbb7e2d37f6b5fab8052498a"
   },
   "outputs": [
    {
     "data": {
      "text/html": [
       "<style type='text/css'>\n",
       ".datatable table.frame { margin-bottom: 0; }\n",
       ".datatable table.frame thead { border-bottom: none; }\n",
       ".datatable table.frame tr.coltypes td {  color: #FFFFFF;  line-height: 6px;  padding: 0 0.5em;}\n",
       ".datatable .bool    { background: #DDDD99; }\n",
       ".datatable .object  { background: #565656; }\n",
       ".datatable .int     { background: #5D9E5D; }\n",
       ".datatable .float   { background: #4040CC; }\n",
       ".datatable .str     { background: #CC4040; }\n",
       ".datatable .row_index {  background: var(--jp-border-color3);  border-right: 1px solid var(--jp-border-color0);  color: var(--jp-ui-font-color3);  font-size: 9px;}\n",
       ".datatable .frame tr.coltypes .row_index {  background: var(--jp-border-color0);}\n",
       ".datatable th:nth-child(2) { padding-left: 12px; }\n",
       ".datatable .hellipsis {  color: var(--jp-cell-editor-border-color);}\n",
       ".datatable .vellipsis {  background: var(--jp-layout-color0);  color: var(--jp-cell-editor-border-color);}\n",
       ".datatable .na {  color: var(--jp-cell-editor-border-color);  font-size: 80%;}\n",
       ".datatable .footer { font-size: 9px; }\n",
       ".datatable .frame_dimensions {  background: var(--jp-border-color3);  border-top: 1px solid var(--jp-border-color0);  color: var(--jp-ui-font-color3);  display: inline-block;  opacity: 0.6;  padding: 1px 10px 1px 5px;}\n",
       "</style>\n"
      ],
      "text/plain": [
       "<IPython.core.display.HTML object>"
      ]
     },
     "metadata": {},
     "output_type": "display_data"
    },
    {
     "name": "stderr",
     "output_type": "stream",
     "text": [
      "/opt/anaconda3/lib/python3.7/site-packages/lightgbm/__init__.py:48: UserWarning: Starting from version 2.2.1, the library file in distribution wheels for macOS is built by the Apple Clang (Xcode_8.3.3) compiler.\n",
      "This means that in case of installing LightGBM from PyPI via the ``pip install lightgbm`` command, you don't need to install the gcc compiler anymore.\n",
      "Instead of that, you need to install the OpenMP library, which is required for running LightGBM on the system with the Apple Clang compiler.\n",
      "You can install the OpenMP library by the following command: ``brew install libomp``.\n",
      "  \"You can install the OpenMP library by the following command: ``brew install libomp``.\", UserWarning)\n"
     ]
    }
   ],
   "source": [
    "from collections import defaultdict\n",
    "import datatable as dt\n",
    "import lightgbm as lgb\n",
    "from matplotlib import pyplot as plt\n",
    "# import riiideducation\n",
    "from sklearn.metrics import roc_auc_score\n",
    "import gc\n",
    "\n",
    "_ = np.seterr(divide='ignore', invalid='ignore')"
   ]
  },
  {
   "cell_type": "code",
   "execution_count": 4,
   "metadata": {},
   "outputs": [],
   "source": [
    "# Initial value\n",
    "SEED = 123\n",
    "\n",
    "# Function to seed everything\n",
    "def seed_everything(seed):\n",
    "    random.seed(seed)\n",
    "    np.random.seed(seed)\n",
    "    os.environ['PYTHONHASHSEED'] = str(seed)\n",
    "    \n",
    "seed_everything(SEED)"
   ]
  },
  {
   "cell_type": "markdown",
   "metadata": {},
   "source": [
    "# Preprocess"
   ]
  },
  {
   "cell_type": "code",
   "execution_count": 5,
   "metadata": {},
   "outputs": [],
   "source": [
    "data_types_dict = {\n",
    "    'timestamp': 'int64',\n",
    "    'user_id': 'int32', \n",
    "    'content_id': 'int16', \n",
    "    'content_type_id':'int8', \n",
    "    'task_container_id': 'int16',\n",
    "    'answered_correctly': 'int8', \n",
    "    'prior_question_elapsed_time': 'float32', \n",
    "    'prior_question_had_explanation': 'bool'\n",
    "}\n",
    "target = 'answered_correctly'"
   ]
  },
  {
   "cell_type": "code",
   "execution_count": 6,
   "metadata": {},
   "outputs": [
    {
     "name": "stdout",
     "output_type": "stream",
     "text": [
      "start read train data...\n"
     ]
    }
   ],
   "source": [
    "print('start read train data...')\n",
    "train_df = dt.fread('../input/riiid-test-answer-prediction/train.csv', columns=set(data_types_dict.keys())).to_pandas()"
   ]
  },
  {
   "cell_type": "code",
   "execution_count": 7,
   "metadata": {},
   "outputs": [
    {
     "name": "stdout",
     "output_type": "stream",
     "text": [
      "start handle lecture data...\n"
     ]
    }
   ],
   "source": [
    "print('start handle lecture data...')"
   ]
  },
  {
   "cell_type": "code",
   "execution_count": 8,
   "metadata": {},
   "outputs": [],
   "source": [
    "#reading in lecture df\n",
    "lectures_df = pd.read_csv('../input/riiid-test-answer-prediction/lectures.csv')"
   ]
  },
  {
   "cell_type": "code",
   "execution_count": 9,
   "metadata": {},
   "outputs": [],
   "source": [
    "lectures_df['type_of'] = lectures_df['type_of'].replace('solving question', 'solving_question')\n",
    "\n",
    "lectures_df = pd.get_dummies(lectures_df, columns=['part', 'type_of'])\n",
    "\n",
    "part_lectures_columns = [column for column in lectures_df.columns if column.startswith('part')]\n",
    "\n",
    "types_of_lectures_columns = [column for column in lectures_df.columns if column.startswith('type_of_')]"
   ]
  },
  {
   "cell_type": "code",
   "execution_count": 10,
   "metadata": {},
   "outputs": [],
   "source": [
    "train_lectures = train_df[train_df.content_type_id == True].merge(lectures_df, left_on='content_id', right_on='lecture_id', how='left')"
   ]
  },
  {
   "cell_type": "code",
   "execution_count": 11,
   "metadata": {},
   "outputs": [],
   "source": [
    "user_lecture_stats_part = train_lectures.groupby('user_id',as_index = False)[part_lectures_columns + types_of_lectures_columns].sum()"
   ]
  },
  {
   "cell_type": "code",
   "execution_count": 12,
   "metadata": {},
   "outputs": [],
   "source": [
    "lecturedata_types_dict = {   \n",
    "    'user_id': 'int32', \n",
    "    'part_1': 'int8',\n",
    "    'part_2': 'int8',\n",
    "    'part_3': 'int8',\n",
    "    'part_4': 'int8',\n",
    "    'part_5': 'int8',\n",
    "    'part_6': 'int8',\n",
    "    'part_7': 'int8',\n",
    "    'type_of_concept': 'int8',\n",
    "    'type_of_intention': 'int8',\n",
    "    'type_of_solving_question': 'int8',\n",
    "    'type_of_starter': 'int8'\n",
    "}\n",
    "user_lecture_stats_part = user_lecture_stats_part.astype(lecturedata_types_dict)"
   ]
  },
  {
   "cell_type": "code",
   "execution_count": 13,
   "metadata": {},
   "outputs": [],
   "source": [
    "for column in user_lecture_stats_part.columns:\n",
    "    #bool_column = column + '_boolean'\n",
    "    if(column !='user_id'):\n",
    "        user_lecture_stats_part[column] = (user_lecture_stats_part[column] > 0).astype('int8')"
   ]
  },
  {
   "cell_type": "code",
   "execution_count": 14,
   "metadata": {},
   "outputs": [
    {
     "data": {
      "text/plain": [
       "user_id                     int32\n",
       "part_1                       int8\n",
       "part_2                       int8\n",
       "part_3                       int8\n",
       "part_4                       int8\n",
       "part_5                       int8\n",
       "part_6                       int8\n",
       "part_7                       int8\n",
       "type_of_concept              int8\n",
       "type_of_intention            int8\n",
       "type_of_solving_question     int8\n",
       "type_of_starter              int8\n",
       "dtype: object"
      ]
     },
     "execution_count": 14,
     "metadata": {},
     "output_type": "execute_result"
    }
   ],
   "source": [
    "user_lecture_stats_part.dtypes"
   ]
  },
  {
   "cell_type": "code",
   "execution_count": 15,
   "metadata": {},
   "outputs": [
    {
     "data": {
      "text/plain": [
       "88"
      ]
     },
     "execution_count": 15,
     "metadata": {},
     "output_type": "execute_result"
    }
   ],
   "source": [
    "#clearing memory\n",
    "del(train_lectures)\n",
    "gc.collect()"
   ]
  },
  {
   "cell_type": "code",
   "execution_count": 16,
   "metadata": {},
   "outputs": [],
   "source": [
    "user_lecture_agg = train_df.groupby('user_id')['content_type_id'].agg(['sum', 'count'])\n",
    "user_lecture_agg=user_lecture_agg.astype('int16')"
   ]
  },
  {
   "cell_type": "code",
   "execution_count": 17,
   "metadata": {},
   "outputs": [],
   "source": [
    "\n",
    "#1= if the event was the user watching a lecture.\n",
    "cum = train_df.groupby('user_id')['content_type_id'].agg(['cumsum', 'cumcount'])\n",
    "cum['cumcount']=cum['cumcount']+1\n",
    "train_df['user_interaction_count'] = cum['cumcount'] \n",
    "train_df['user_interaction_timestamp_mean'] = train_df['timestamp']/cum['cumcount'] \n",
    "train_df['user_lecture_sum'] = cum['cumsum'] \n",
    "train_df['user_lecture_lv'] = cum['cumsum'] / cum['cumcount']\n",
    "\n",
    "\n",
    "train_df.user_lecture_lv=train_df.user_lecture_lv.astype('float16')\n",
    "train_df.user_lecture_sum=train_df.user_lecture_sum.astype('int16')\n",
    "train_df.user_interaction_count=train_df.user_interaction_count.astype('int16')\n",
    "train_df['user_interaction_timestamp_mean']=train_df['user_interaction_timestamp_mean']/(1000*3600)\n",
    "train_df.user_interaction_timestamp_mean=train_df.user_interaction_timestamp_mean.astype('float32')\n"
   ]
  },
  {
   "cell_type": "code",
   "execution_count": 19,
   "metadata": {},
   "outputs": [
    {
     "data": {
      "text/plain": [
       "88"
      ]
     },
     "execution_count": 19,
     "metadata": {},
     "output_type": "execute_result"
    }
   ],
   "source": [
    "del cum\n",
    "gc.collect()"
   ]
  },
  {
   "cell_type": "code",
   "execution_count": 20,
   "metadata": {},
   "outputs": [
    {
     "name": "stdout",
     "output_type": "stream",
     "text": [
      "start handle train_df...\n"
     ]
    }
   ],
   "source": [
    "print('start handle train_df...')"
   ]
  },
  {
   "cell_type": "code",
   "execution_count": 21,
   "metadata": {},
   "outputs": [],
   "source": [
    "train_df['prior_question_had_explanation'].fillna(False, inplace=True)\n",
    "train_df = train_df.astype(data_types_dict)\n",
    "train_df = train_df[train_df[target] != -1].reset_index(drop=True)"
   ]
  },
  {
   "cell_type": "code",
   "execution_count": 22,
   "metadata": {},
   "outputs": [],
   "source": [
    "content_explation_agg=train_df[[\"content_id\",\"prior_question_had_explanation\",target]].groupby([\"content_id\",\"prior_question_had_explanation\"])[target].agg(['mean'])"
   ]
  },
  {
   "cell_type": "code",
   "execution_count": 23,
   "metadata": {},
   "outputs": [
    {
     "data": {
      "text/plain": [
       "mean    float64\n",
       "dtype: object"
      ]
     },
     "execution_count": 23,
     "metadata": {},
     "output_type": "execute_result"
    }
   ],
   "source": [
    "content_explation_agg.dtypes"
   ]
  },
  {
   "cell_type": "code",
   "execution_count": 24,
   "metadata": {},
   "outputs": [],
   "source": [
    "content_explation_agg=content_explation_agg.unstack()\n",
    "\n",
    "content_explation_agg=content_explation_agg.reset_index()\n",
    "content_explation_agg.columns = ['content_id', 'content_explation_false_mean','content_explation_true_mean']"
   ]
  },
  {
   "cell_type": "code",
   "execution_count": 25,
   "metadata": {},
   "outputs": [],
   "source": [
    "content_explation_agg.content_id=content_explation_agg.content_id.astype('int16')\n",
    "content_explation_agg.content_explation_false_mean=content_explation_agg.content_explation_false_mean.astype('float16')\n",
    "content_explation_agg.content_explation_true_mean=content_explation_agg.content_explation_true_mean.astype('float16')"
   ]
  },
  {
   "cell_type": "code",
   "execution_count": 26,
   "metadata": {},
   "outputs": [
    {
     "name": "stdout",
     "output_type": "stream",
     "text": [
      "start handle attempt_no...\n"
     ]
    }
   ],
   "source": [
    "print('start handle attempt_no...')"
   ]
  },
  {
   "cell_type": "code",
   "execution_count": 27,
   "metadata": {},
   "outputs": [],
   "source": [
    "\n",
    "train_df[\"attempt_no\"] = 1\n",
    "train_df.attempt_no=train_df.attempt_no.astype('int8')\n",
    "#\n",
    "attempt_no_agg=train_df.groupby([\"user_id\",\"content_id\"])[\"attempt_no\"].agg(['sum']).astype('int8')\n",
    "#attempt_no_agg=attempt_no_agg.astype('int8')\n",
    "train_df[\"attempt_no\"] = train_df[[\"user_id\",\"content_id\",'attempt_no']].groupby([\"user_id\",\"content_id\"])[\"attempt_no\"].cumsum()"
   ]
  },
  {
   "cell_type": "code",
   "execution_count": 28,
   "metadata": {},
   "outputs": [],
   "source": [
    "#attempt_no_agg=attempt_no_agg.reset_index()\n",
    "attempt_no_agg=attempt_no_agg[attempt_no_agg['sum'] >1]"
   ]
  },
  {
   "cell_type": "code",
   "execution_count": 29,
   "metadata": {},
   "outputs": [
    {
     "name": "stdout",
     "output_type": "stream",
     "text": [
      "start handle timestamp...\n"
     ]
    }
   ],
   "source": [
    "print('start handle timestamp...')\n",
    "prior_question_elapsed_time_mean=train_df['prior_question_elapsed_time'].mean()\n",
    "train_df['prior_question_elapsed_time'].fillna(prior_question_elapsed_time_mean, inplace=True)"
   ]
  },
  {
   "cell_type": "code",
   "execution_count": 85,
   "metadata": {},
   "outputs": [
    {
     "data": {
      "text/plain": [
       "13005.0810546875"
      ]
     },
     "execution_count": 85,
     "metadata": {},
     "output_type": "execute_result"
    }
   ],
   "source": [
    "prior_question_elapsed_time_mean"
   ]
  },
  {
   "cell_type": "code",
   "execution_count": 30,
   "metadata": {},
   "outputs": [],
   "source": [
    "max_timestamp_u = train_df[['user_id','timestamp']].groupby(['user_id']).agg(['max']).reset_index()\n",
    "max_timestamp_u.columns = ['user_id', 'max_time_stamp']\n",
    "max_timestamp_u.user_id=max_timestamp_u.user_id.astype('int32')"
   ]
  },
  {
   "cell_type": "code",
   "execution_count": 31,
   "metadata": {},
   "outputs": [],
   "source": [
    "\n",
    "train_df['lagtime'] = train_df.groupby('user_id')['timestamp'].shift()\n",
    "\n",
    "max_timestamp_u2 = train_df[['user_id','lagtime']].groupby(['user_id']).agg(['max']).reset_index()\n",
    "max_timestamp_u2.columns = ['user_id', 'max_time_stamp2']\n",
    "max_timestamp_u2.user_id=max_timestamp_u2.user_id.astype('int32')"
   ]
  },
  {
   "cell_type": "code",
   "execution_count": 32,
   "metadata": {},
   "outputs": [],
   "source": [
    "train_df['lagtime']=train_df['timestamp']-train_df['lagtime']\n",
    "lagtime_mean=train_df['lagtime'].mean()\n",
    "train_df['lagtime'].fillna(lagtime_mean, inplace=True)"
   ]
  },
  {
   "cell_type": "code",
   "execution_count": 33,
   "metadata": {},
   "outputs": [],
   "source": [
    "train_df['lagtime']=train_df['lagtime']/(1000*3600)\n",
    "train_df.lagtime=train_df.lagtime.astype('float32')"
   ]
  },
  {
   "cell_type": "code",
   "execution_count": 34,
   "metadata": {},
   "outputs": [],
   "source": [
    "# lagtime_agg = train_df.groupby('user_id')['lagtime'].agg(['mean'])\n",
    "# train_df['lagtime_mean'] = train_df['user_id'].map(lagtime_agg['mean'])\n",
    "# train_df.lagtime_mean=train_df.lagtime_mean.astype('int32')\n",
    "# lagtime_agg=lagtime_agg.astype('int32')"
   ]
  },
  {
   "cell_type": "code",
   "execution_count": 35,
   "metadata": {},
   "outputs": [],
   "source": [
    "\n",
    "train_df['lagtime2'] = train_df.groupby('user_id')['timestamp'].shift(2)\n",
    "\n",
    "max_timestamp_u3 = train_df[['user_id','lagtime2']].groupby(['user_id']).agg(['max']).reset_index()\n",
    "max_timestamp_u3.columns = ['user_id', 'max_time_stamp3']\n",
    "max_timestamp_u3.user_id=max_timestamp_u3.user_id.astype('int32')\n",
    "\n",
    "train_df['lagtime2']=train_df['timestamp']-train_df['lagtime2']\n",
    "lagtime_mean2=train_df['lagtime2'].mean()\n",
    "train_df['lagtime2'].fillna(lagtime_mean2, inplace=True)"
   ]
  },
  {
   "cell_type": "code",
   "execution_count": 36,
   "metadata": {},
   "outputs": [],
   "source": [
    "train_df['lagtime2']=train_df['lagtime2']/(1000*3600)\n",
    "train_df.lagtime2=train_df.lagtime2.astype('float32')"
   ]
  },
  {
   "cell_type": "code",
   "execution_count": 37,
   "metadata": {},
   "outputs": [],
   "source": [
    "train_df['lagtime3'] = train_df.groupby('user_id')['timestamp'].shift(3)\n",
    "\n",
    "train_df['lagtime3']=train_df['timestamp']-train_df['lagtime3']\n",
    "lagtime_mean3=train_df['lagtime3'].mean()\n",
    "train_df['lagtime3'].fillna(lagtime_mean3, inplace=True)\n",
    "train_df['lagtime3']=train_df['lagtime3']/(1000*3600)\n",
    "train_df.lagtime3=train_df.lagtime3.astype('float32')"
   ]
  },
  {
   "cell_type": "code",
   "execution_count": 39,
   "metadata": {},
   "outputs": [],
   "source": [
    "train_df['timestamp']=train_df['timestamp']/(1000*3600)\n",
    "train_df.timestamp=train_df.timestamp.astype('float16')"
   ]
  },
  {
   "cell_type": "code",
   "execution_count": 40,
   "metadata": {},
   "outputs": [],
   "source": [
    "user_prior_question_elapsed_time = train_df[['user_id','prior_question_elapsed_time']].groupby(['user_id']).tail(1)\n",
    "user_prior_question_elapsed_time.columns = ['user_id', 'prior_question_elapsed_time']"
   ]
  },
  {
   "cell_type": "code",
   "execution_count": 41,
   "metadata": {},
   "outputs": [],
   "source": [
    "train_df['delta_prior_question_elapsed_time'] = train_df.groupby('user_id')['prior_question_elapsed_time'].shift()\n",
    "train_df['delta_prior_question_elapsed_time']=train_df['prior_question_elapsed_time']-train_df['delta_prior_question_elapsed_time']"
   ]
  },
  {
   "cell_type": "code",
   "execution_count": 42,
   "metadata": {},
   "outputs": [],
   "source": [
    "delta_prior_question_elapsed_time_mean=train_df['delta_prior_question_elapsed_time'].mean()\n",
    "train_df['delta_prior_question_elapsed_time'].fillna(delta_prior_question_elapsed_time_mean, inplace=True)\n",
    "train_df.delta_prior_question_elapsed_time=train_df.delta_prior_question_elapsed_time.astype('int32')"
   ]
  },
  {
   "cell_type": "code",
   "execution_count": 43,
   "metadata": {},
   "outputs": [],
   "source": [
    "train_df['lag'] = train_df.groupby('user_id')[target].shift()\n",
    "\n",
    "cum = train_df.groupby('user_id')['lag'].agg(['cumsum', 'cumcount'])\n",
    "user_agg = train_df.groupby('user_id')['lag'].agg(['sum', 'count']).astype('int16')\n",
    "cum['cumsum'].fillna(0, inplace=True)\n",
    "\n",
    "train_df['user_correctness'] = cum['cumsum'] / cum['cumcount']\n",
    "train_df['user_correct_count'] = cum['cumsum']\n",
    "train_df['user_uncorrect_count'] = cum['cumcount']-cum['cumsum']\n",
    "train_df.drop(columns=['lag'], inplace=True)\n",
    "train_df['user_correctness'].fillna(0.67, inplace=True)\n",
    "train_df.user_correctness=train_df.user_correctness.astype('float16')\n",
    "train_df.user_correct_count=train_df.user_correct_count.astype('int16')\n",
    "train_df.user_uncorrect_count=train_df.user_uncorrect_count.astype('int16')"
   ]
  },
  {
   "cell_type": "code",
   "execution_count": 44,
   "metadata": {},
   "outputs": [
    {
     "data": {
      "text/plain": [
       "22"
      ]
     },
     "execution_count": 44,
     "metadata": {},
     "output_type": "execute_result"
    }
   ],
   "source": [
    "del cum\n",
    "gc.collect()"
   ]
  },
  {
   "cell_type": "code",
   "execution_count": 46,
   "metadata": {},
   "outputs": [],
   "source": [
    "train_df.prior_question_had_explanation=train_df.prior_question_had_explanation.astype('int8')\n",
    "explanation_agg = train_df.groupby('user_id')['prior_question_had_explanation'].agg(['sum', 'count'])\n",
    "explanation_agg=explanation_agg.astype('int16')"
   ]
  },
  {
   "cell_type": "code",
   "execution_count": 47,
   "metadata": {},
   "outputs": [],
   "source": [
    "cum = train_df.groupby('user_id')['prior_question_had_explanation'].agg(['cumsum', 'cumcount'])\n",
    "cum['cumcount']=cum['cumcount']+1\n",
    "train_df['explanation_mean'] = cum['cumsum'] / cum['cumcount']\n",
    "train_df['explanation_true_count'] = cum['cumsum'] \n",
    "train_df['explanation_false_count'] =  cum['cumcount']-cum['cumsum']\n",
    "\n",
    "train_df.explanation_mean=train_df.explanation_mean.astype('float16')\n",
    "train_df.explanation_true_count=train_df.explanation_true_count.astype('int16')\n",
    "train_df.explanation_false_count=train_df.explanation_false_count.astype('int16')"
   ]
  },
  {
   "cell_type": "code",
   "execution_count": 48,
   "metadata": {},
   "outputs": [
    {
     "data": {
      "text/plain": [
       "35"
      ]
     },
     "execution_count": 48,
     "metadata": {},
     "output_type": "execute_result"
    }
   ],
   "source": [
    "del cum\n",
    "gc.collect()"
   ]
  },
  {
   "cell_type": "code",
   "execution_count": 49,
   "metadata": {},
   "outputs": [],
   "source": [
    "content_agg = train_df.groupby('content_id')[target].agg(['sum', 'count','var'])\n",
    "task_container_agg = train_df.groupby('task_container_id')[target].agg(['sum', 'count','var'])\n",
    "content_agg=content_agg.astype('float32')\n",
    "task_container_agg=task_container_agg.astype('float32')"
   ]
  },
  {
   "cell_type": "code",
   "execution_count": 50,
   "metadata": {},
   "outputs": [],
   "source": [
    "train_df['task_container_uncor_count'] = train_df['task_container_id'].map(task_container_agg['count']-task_container_agg['sum']).astype('int32')\n",
    "train_df['task_container_cor_count'] = train_df['task_container_id'].map(task_container_agg['sum']).astype('int32')\n",
    "train_df['task_container_std'] = train_df['task_container_id'].map(task_container_agg['var']).astype('float16')\n",
    "train_df['task_container_correctness'] = train_df['task_container_id'].map(task_container_agg['sum'] / task_container_agg['count'])\n",
    "train_df.task_container_correctness=train_df.task_container_correctness.astype('float16')"
   ]
  },
  {
   "cell_type": "code",
   "execution_count": 51,
   "metadata": {},
   "outputs": [],
   "source": [
    "content_elapsed_time_agg=train_df.groupby('content_id')['prior_question_elapsed_time'].agg(['mean'])\n",
    "content_had_explanation_agg=train_df.groupby('content_id')['prior_question_had_explanation'].agg(['mean'])"
   ]
  },
  {
   "cell_type": "code",
   "execution_count": 52,
   "metadata": {},
   "outputs": [
    {
     "data": {
      "text/plain": [
       "timestamp                            float16\n",
       "user_id                                int32\n",
       "content_id                             int16\n",
       "content_type_id                         int8\n",
       "task_container_id                      int16\n",
       "answered_correctly                      int8\n",
       "prior_question_elapsed_time          float32\n",
       "prior_question_had_explanation          int8\n",
       "user_interaction_count                 int16\n",
       "user_interaction_timestamp_mean      float32\n",
       "user_lecture_sum                       int16\n",
       "user_lecture_lv                      float16\n",
       "attempt_no                              int8\n",
       "lagtime                              float32\n",
       "lagtime2                             float32\n",
       "lagtime3                             float32\n",
       "delta_prior_question_elapsed_time      int32\n",
       "user_correctness                     float16\n",
       "user_correct_count                     int16\n",
       "user_uncorrect_count                   int16\n",
       "explanation_mean                     float16\n",
       "explanation_true_count                 int16\n",
       "explanation_false_count                int16\n",
       "task_container_uncor_count             int32\n",
       "task_container_cor_count               int32\n",
       "task_container_std                   float16\n",
       "task_container_correctness           float16\n",
       "dtype: object"
      ]
     },
     "execution_count": 52,
     "metadata": {},
     "output_type": "execute_result"
    }
   ],
   "source": [
    "train_df.dtypes"
   ]
  },
  {
   "cell_type": "code",
   "execution_count": 53,
   "metadata": {},
   "outputs": [
    {
     "data": {
      "text/html": [
       "<div>\n",
       "<style scoped>\n",
       "    .dataframe tbody tr th:only-of-type {\n",
       "        vertical-align: middle;\n",
       "    }\n",
       "\n",
       "    .dataframe tbody tr th {\n",
       "        vertical-align: top;\n",
       "    }\n",
       "\n",
       "    .dataframe thead th {\n",
       "        text-align: right;\n",
       "    }\n",
       "</style>\n",
       "<table border=\"1\" class=\"dataframe\">\n",
       "  <thead>\n",
       "    <tr style=\"text-align: right;\">\n",
       "      <th></th>\n",
       "      <th>timestamp</th>\n",
       "      <th>user_id</th>\n",
       "      <th>content_id</th>\n",
       "      <th>content_type_id</th>\n",
       "      <th>task_container_id</th>\n",
       "      <th>answered_correctly</th>\n",
       "      <th>prior_question_elapsed_time</th>\n",
       "      <th>prior_question_had_explanation</th>\n",
       "      <th>user_interaction_count</th>\n",
       "      <th>user_interaction_timestamp_mean</th>\n",
       "      <th>...</th>\n",
       "      <th>user_correctness</th>\n",
       "      <th>user_correct_count</th>\n",
       "      <th>user_uncorrect_count</th>\n",
       "      <th>explanation_mean</th>\n",
       "      <th>explanation_true_count</th>\n",
       "      <th>explanation_false_count</th>\n",
       "      <th>task_container_uncor_count</th>\n",
       "      <th>task_container_cor_count</th>\n",
       "      <th>task_container_std</th>\n",
       "      <th>task_container_correctness</th>\n",
       "    </tr>\n",
       "  </thead>\n",
       "  <tbody>\n",
       "    <tr>\n",
       "      <th>0</th>\n",
       "      <td>0.000000</td>\n",
       "      <td>115</td>\n",
       "      <td>5692</td>\n",
       "      <td>0</td>\n",
       "      <td>1</td>\n",
       "      <td>1</td>\n",
       "      <td>13005.081055</td>\n",
       "      <td>0</td>\n",
       "      <td>1</td>\n",
       "      <td>0.000000</td>\n",
       "      <td>...</td>\n",
       "      <td>0.669922</td>\n",
       "      <td>0</td>\n",
       "      <td>0</td>\n",
       "      <td>0.0</td>\n",
       "      <td>0</td>\n",
       "      <td>1</td>\n",
       "      <td>187175</td>\n",
       "      <td>208704</td>\n",
       "      <td>0.249268</td>\n",
       "      <td>0.527344</td>\n",
       "    </tr>\n",
       "    <tr>\n",
       "      <th>1</th>\n",
       "      <td>0.015823</td>\n",
       "      <td>115</td>\n",
       "      <td>5716</td>\n",
       "      <td>0</td>\n",
       "      <td>2</td>\n",
       "      <td>1</td>\n",
       "      <td>37000.000000</td>\n",
       "      <td>0</td>\n",
       "      <td>2</td>\n",
       "      <td>0.007909</td>\n",
       "      <td>...</td>\n",
       "      <td>1.000000</td>\n",
       "      <td>1</td>\n",
       "      <td>0</td>\n",
       "      <td>0.0</td>\n",
       "      <td>0</td>\n",
       "      <td>2</td>\n",
       "      <td>223198</td>\n",
       "      <td>172342</td>\n",
       "      <td>0.245850</td>\n",
       "      <td>0.435791</td>\n",
       "    </tr>\n",
       "    <tr>\n",
       "      <th>2</th>\n",
       "      <td>0.032867</td>\n",
       "      <td>115</td>\n",
       "      <td>128</td>\n",
       "      <td>0</td>\n",
       "      <td>0</td>\n",
       "      <td>1</td>\n",
       "      <td>55000.000000</td>\n",
       "      <td>0</td>\n",
       "      <td>3</td>\n",
       "      <td>0.010960</td>\n",
       "      <td>...</td>\n",
       "      <td>1.000000</td>\n",
       "      <td>2</td>\n",
       "      <td>0</td>\n",
       "      <td>0.0</td>\n",
       "      <td>0</td>\n",
       "      <td>3</td>\n",
       "      <td>126682</td>\n",
       "      <td>269233</td>\n",
       "      <td>0.217651</td>\n",
       "      <td>0.680176</td>\n",
       "    </tr>\n",
       "    <tr>\n",
       "      <th>3</th>\n",
       "      <td>0.036438</td>\n",
       "      <td>115</td>\n",
       "      <td>7860</td>\n",
       "      <td>0</td>\n",
       "      <td>3</td>\n",
       "      <td>1</td>\n",
       "      <td>19000.000000</td>\n",
       "      <td>0</td>\n",
       "      <td>4</td>\n",
       "      <td>0.009109</td>\n",
       "      <td>...</td>\n",
       "      <td>1.000000</td>\n",
       "      <td>3</td>\n",
       "      <td>0</td>\n",
       "      <td>0.0</td>\n",
       "      <td>0</td>\n",
       "      <td>4</td>\n",
       "      <td>180574</td>\n",
       "      <td>214721</td>\n",
       "      <td>0.248169</td>\n",
       "      <td>0.542969</td>\n",
       "    </tr>\n",
       "    <tr>\n",
       "      <th>4</th>\n",
       "      <td>0.038330</td>\n",
       "      <td>115</td>\n",
       "      <td>7922</td>\n",
       "      <td>0</td>\n",
       "      <td>4</td>\n",
       "      <td>1</td>\n",
       "      <td>11000.000000</td>\n",
       "      <td>0</td>\n",
       "      <td>5</td>\n",
       "      <td>0.007665</td>\n",
       "      <td>...</td>\n",
       "      <td>1.000000</td>\n",
       "      <td>4</td>\n",
       "      <td>0</td>\n",
       "      <td>0.0</td>\n",
       "      <td>0</td>\n",
       "      <td>5</td>\n",
       "      <td>361957</td>\n",
       "      <td>330079</td>\n",
       "      <td>0.249512</td>\n",
       "      <td>0.477051</td>\n",
       "    </tr>\n",
       "  </tbody>\n",
       "</table>\n",
       "<p>5 rows × 27 columns</p>\n",
       "</div>"
      ],
      "text/plain": [
       "   timestamp  user_id  content_id  content_type_id  task_container_id  \\\n",
       "0   0.000000      115        5692                0                  1   \n",
       "1   0.015823      115        5716                0                  2   \n",
       "2   0.032867      115         128                0                  0   \n",
       "3   0.036438      115        7860                0                  3   \n",
       "4   0.038330      115        7922                0                  4   \n",
       "\n",
       "   answered_correctly  prior_question_elapsed_time  \\\n",
       "0                   1                 13005.081055   \n",
       "1                   1                 37000.000000   \n",
       "2                   1                 55000.000000   \n",
       "3                   1                 19000.000000   \n",
       "4                   1                 11000.000000   \n",
       "\n",
       "   prior_question_had_explanation  user_interaction_count  \\\n",
       "0                               0                       1   \n",
       "1                               0                       2   \n",
       "2                               0                       3   \n",
       "3                               0                       4   \n",
       "4                               0                       5   \n",
       "\n",
       "   user_interaction_timestamp_mean  ...  user_correctness  user_correct_count  \\\n",
       "0                         0.000000  ...          0.669922                   0   \n",
       "1                         0.007909  ...          1.000000                   1   \n",
       "2                         0.010960  ...          1.000000                   2   \n",
       "3                         0.009109  ...          1.000000                   3   \n",
       "4                         0.007665  ...          1.000000                   4   \n",
       "\n",
       "   user_uncorrect_count  explanation_mean  explanation_true_count  \\\n",
       "0                     0               0.0                       0   \n",
       "1                     0               0.0                       0   \n",
       "2                     0               0.0                       0   \n",
       "3                     0               0.0                       0   \n",
       "4                     0               0.0                       0   \n",
       "\n",
       "   explanation_false_count  task_container_uncor_count  \\\n",
       "0                        1                      187175   \n",
       "1                        2                      223198   \n",
       "2                        3                      126682   \n",
       "3                        4                      180574   \n",
       "4                        5                      361957   \n",
       "\n",
       "   task_container_cor_count  task_container_std  task_container_correctness  \n",
       "0                    208704            0.249268                    0.527344  \n",
       "1                    172342            0.245850                    0.435791  \n",
       "2                    269233            0.217651                    0.680176  \n",
       "3                    214721            0.248169                    0.542969  \n",
       "4                    330079            0.249512                    0.477051  \n",
       "\n",
       "[5 rows x 27 columns]"
      ]
     },
     "execution_count": 53,
     "metadata": {},
     "output_type": "execute_result"
    }
   ],
   "source": [
    "train_df.head()"
   ]
  },
  {
   "cell_type": "code",
   "execution_count": 54,
   "metadata": {},
   "outputs": [
    {
     "name": "stdout",
     "output_type": "stream",
     "text": [
      "start questions data...\n"
     ]
    }
   ],
   "source": [
    "print('start questions data...')"
   ]
  },
  {
   "cell_type": "code",
   "execution_count": 55,
   "metadata": {},
   "outputs": [],
   "source": [
    "questions_df = pd.read_csv(\n",
    "    '../input/riiid-test-answer-prediction/questions.csv', \n",
    "    usecols=[0, 1,3,4],\n",
    "    dtype={'question_id': 'int16','bundle_id': 'int16', 'part': 'int8','tags': 'str'}\n",
    ")"
   ]
  },
  {
   "cell_type": "code",
   "execution_count": 56,
   "metadata": {},
   "outputs": [],
   "source": [
    "bundle_agg = questions_df.groupby('bundle_id')['question_id'].agg(['count'])"
   ]
  },
  {
   "cell_type": "code",
   "execution_count": 57,
   "metadata": {},
   "outputs": [],
   "source": [
    "questions_df['content_sub_bundle'] = questions_df['bundle_id'].map(bundle_agg['count']).astype('int8')"
   ]
  },
  {
   "cell_type": "code",
   "execution_count": 58,
   "metadata": {},
   "outputs": [],
   "source": [
    "questions_df['tags'].fillna('188', inplace=True)"
   ]
  },
  {
   "cell_type": "code",
   "execution_count": 59,
   "metadata": {},
   "outputs": [],
   "source": [
    "def gettags(tags,num):\n",
    "    tags_splits=tags.split(\" \")\n",
    "    result='' \n",
    "    for t in tags_splits:\n",
    "        x=int(t)\n",
    "        if(x<32*(num+1) and x>=32*num):#num \n",
    "            result=result+' '+t\n",
    "    return result"
   ]
  },
  {
   "cell_type": "code",
   "execution_count": 60,
   "metadata": {},
   "outputs": [],
   "source": [
    "from sklearn.preprocessing import LabelEncoder\n",
    "for num in range(0,6):\n",
    "    questions_df[\"tags\"+str(num)] = questions_df[\"tags\"].apply(lambda row: gettags(row,num))\n",
    "    le = LabelEncoder()\n",
    "    le.fit(np.unique(questions_df['tags'+str(num)].values))\n",
    "    #questions_df[['tags'+str(num)]=\n",
    "    questions_df['tags'+str(num)]=questions_df[['tags'+str(num)]].apply(le.transform)"
   ]
  },
  {
   "cell_type": "code",
   "execution_count": 61,
   "metadata": {},
   "outputs": [],
   "source": [
    "questions_df_dict = {   \n",
    "    'tags0': 'int8',\n",
    "    'tags1': 'int8',\n",
    "    'tags2': 'int8',\n",
    "    'tags3': 'int8',\n",
    "    'tags4': 'int8',\n",
    "    'tags5': 'int8',\n",
    "}\n",
    "questions_df = questions_df.astype(questions_df_dict)"
   ]
  },
  {
   "cell_type": "code",
   "execution_count": 62,
   "metadata": {},
   "outputs": [],
   "source": [
    "questions_df.drop(columns=['tags'], inplace=True)"
   ]
  },
  {
   "cell_type": "code",
   "execution_count": 63,
   "metadata": {},
   "outputs": [],
   "source": [
    "questions_df['part_bundle_id']=questions_df['part']*100000+questions_df['bundle_id']\n",
    "questions_df.part_bundle_id=questions_df.part_bundle_id.astype('int32')"
   ]
  },
  {
   "cell_type": "code",
   "execution_count": 66,
   "metadata": {},
   "outputs": [],
   "source": [
    "questions_df.rename(columns={'question_id':'content_id'}, inplace=True)"
   ]
  },
  {
   "cell_type": "code",
   "execution_count": 67,
   "metadata": {},
   "outputs": [],
   "source": [
    "questions_df = pd.merge(questions_df, content_explation_agg, on='content_id', how='left',right_index=True)#"
   ]
  },
  {
   "cell_type": "code",
   "execution_count": 68,
   "metadata": {},
   "outputs": [],
   "source": [
    "del content_explation_agg"
   ]
  },
  {
   "cell_type": "code",
   "execution_count": 69,
   "metadata": {},
   "outputs": [],
   "source": [
    "questions_df['content_correctness'] = questions_df['content_id'].map(content_agg['sum'] / content_agg['count'])\n",
    "questions_df.content_correctness=questions_df.content_correctness.astype('float16')\n",
    "questions_df['content_correctness_std'] = questions_df['content_id'].map(content_agg['var'])\n",
    "questions_df.content_correctness_std=questions_df.content_correctness_std.astype('float16')\n",
    "questions_df['content_uncorrect_count'] = questions_df['content_id'].map(content_agg['count']-content_agg['sum']).astype('int32')\n",
    "questions_df['content_correct_count'] = questions_df['content_id'].map(content_agg['sum']).astype('int32')"
   ]
  },
  {
   "cell_type": "code",
   "execution_count": 70,
   "metadata": {},
   "outputs": [],
   "source": [
    "questions_df['content_elapsed_time_mean'] = questions_df['content_id'].map(content_elapsed_time_agg['mean'])\n",
    "questions_df.content_elapsed_time_mean=questions_df.content_elapsed_time_mean.astype('float16')\n",
    "questions_df['content_had_explanation_mean'] = questions_df['content_id'].map(content_had_explanation_agg['mean'])\n",
    "questions_df.content_had_explanation_mean=questions_df.content_had_explanation_mean.astype('float16')"
   ]
  },
  {
   "cell_type": "code",
   "execution_count": 71,
   "metadata": {},
   "outputs": [
    {
     "data": {
      "text/plain": [
       "101"
      ]
     },
     "execution_count": 71,
     "metadata": {},
     "output_type": "execute_result"
    }
   ],
   "source": [
    "del content_elapsed_time_agg\n",
    "del content_had_explanation_agg\n",
    "gc.collect()"
   ]
  },
  {
   "cell_type": "code",
   "execution_count": 72,
   "metadata": {},
   "outputs": [],
   "source": [
    "part_agg = questions_df.groupby('part')['content_correctness'].agg(['mean', 'var'])\n",
    "questions_df['part_correctness_mean'] = questions_df['part'].map(part_agg['mean'])\n",
    "questions_df['part_correctness_std'] = questions_df['part'].map(part_agg['var'])\n",
    "questions_df.part_correctness_mean=questions_df.part_correctness_mean.astype('float16')\n",
    "questions_df.part_correctness_std=questions_df.part_correctness_std.astype('float16')"
   ]
  },
  {
   "cell_type": "code",
   "execution_count": 73,
   "metadata": {},
   "outputs": [],
   "source": [
    "part_agg = questions_df.groupby('part')['content_uncorrect_count'].agg(['sum'])\n",
    "questions_df['part_uncor_count'] = questions_df['part'].map(part_agg['sum']).astype('int32')\n",
    "part_agg = questions_df.groupby('part')['content_correct_count'].agg(['sum'])\n",
    "questions_df['part_cor_count'] = questions_df['part'].map(part_agg['sum']).astype('int32')"
   ]
  },
  {
   "cell_type": "code",
   "execution_count": 74,
   "metadata": {},
   "outputs": [],
   "source": [
    "bundle_agg = questions_df.groupby('bundle_id')['content_correctness'].agg(['mean'])\n",
    "questions_df['bundle_correctness_mean'] = questions_df['bundle_id'].map(bundle_agg['mean'])\n",
    "questions_df.bundle_correctness_mean=questions_df.bundle_correctness_mean.astype('float16')"
   ]
  },
  {
   "cell_type": "code",
   "execution_count": 77,
   "metadata": {},
   "outputs": [
    {
     "data": {
      "text/plain": [
       "content_id                        int16\n",
       "bundle_id                         int16\n",
       "part                               int8\n",
       "content_sub_bundle                 int8\n",
       "tags0                              int8\n",
       "tags1                              int8\n",
       "tags2                              int8\n",
       "tags3                              int8\n",
       "tags4                              int8\n",
       "tags5                              int8\n",
       "part_bundle_id                    int32\n",
       "content_explation_false_mean    float16\n",
       "content_explation_true_mean     float16\n",
       "content_correctness             float16\n",
       "content_correctness_std         float16\n",
       "content_uncorrect_count           int32\n",
       "content_correct_count             int32\n",
       "content_elapsed_time_mean       float16\n",
       "content_had_explanation_mean    float16\n",
       "part_correctness_mean           float16\n",
       "part_correctness_std            float16\n",
       "part_uncor_count                  int32\n",
       "part_cor_count                    int32\n",
       "bundle_correctness_mean         float16\n",
       "dtype: object"
      ]
     },
     "execution_count": 77,
     "metadata": {},
     "output_type": "execute_result"
    }
   ],
   "source": [
    "questions_df.dtypes"
   ]
  },
  {
   "cell_type": "code",
   "execution_count": 78,
   "metadata": {},
   "outputs": [
    {
     "data": {
      "text/plain": [
       "22"
      ]
     },
     "execution_count": 78,
     "metadata": {},
     "output_type": "execute_result"
    }
   ],
   "source": [
    "del content_agg\n",
    "del bundle_agg\n",
    "del part_agg\n",
    "gc.collect()"
   ]
  },
  {
   "cell_type": "code",
   "execution_count": 81,
   "metadata": {},
   "outputs": [
    {
     "data": {
      "text/plain": [
       "99271300"
      ]
     },
     "execution_count": 81,
     "metadata": {},
     "output_type": "execute_result"
    }
   ],
   "source": [
    "len(train_df)"
   ]
  },
  {
   "cell_type": "markdown",
   "metadata": {},
   "source": [
    "## Save dataframes"
   ]
  },
  {
   "cell_type": "code",
   "execution_count": 90,
   "metadata": {},
   "outputs": [
    {
     "data": {
      "text/plain": [
       "13005.0810546875"
      ]
     },
     "execution_count": 90,
     "metadata": {},
     "output_type": "execute_result"
    }
   ],
   "source": [
    "prior_question_elapsed_time_mean"
   ]
  },
  {
   "cell_type": "code",
   "execution_count": 86,
   "metadata": {},
   "outputs": [
    {
     "data": {
      "text/plain": [
       "20441941.566456214"
      ]
     },
     "execution_count": 86,
     "metadata": {},
     "output_type": "execute_result"
    }
   ],
   "source": [
    "lagtime_mean"
   ]
  },
  {
   "cell_type": "code",
   "execution_count": 87,
   "metadata": {},
   "outputs": [
    {
     "data": {
      "text/plain": [
       "40370652.30368494"
      ]
     },
     "execution_count": 87,
     "metadata": {},
     "output_type": "execute_result"
    }
   ],
   "source": [
    "lagtime_mean2"
   ]
  },
  {
   "cell_type": "code",
   "execution_count": 88,
   "metadata": {},
   "outputs": [
    {
     "data": {
      "text/plain": [
       "60008399.99610778"
      ]
     },
     "execution_count": 88,
     "metadata": {},
     "output_type": "execute_result"
    }
   ],
   "source": [
    "lagtime_mean3"
   ]
  },
  {
   "cell_type": "code",
   "execution_count": 89,
   "metadata": {},
   "outputs": [
    {
     "data": {
      "text/plain": [
       "44.682064056396484"
      ]
     },
     "execution_count": 89,
     "metadata": {},
     "output_type": "execute_result"
    }
   ],
   "source": [
    "delta_prior_question_elapsed_time_mean"
   ]
  },
  {
   "cell_type": "code",
   "execution_count": 83,
   "metadata": {},
   "outputs": [
    {
     "name": "stdout",
     "output_type": "stream",
     "text": [
      "CPU times: user 4.8 s, sys: 13.8 s, total: 18.6 s\n",
      "Wall time: 25.3 s\n"
     ]
    }
   ],
   "source": [
    "%%time\n",
    "\n",
    "train_df.to_pickle('../input/train-df2/train_df.pkl')"
   ]
  },
  {
   "cell_type": "code",
   "execution_count": null,
   "metadata": {},
   "outputs": [],
   "source": [
    "%%time\n",
    "\n",
    "questions_df.to_pickle('../input/train-df2/questions_df.pkl')\n",
    "attempt_no_agg.to_pickle('../input/train-df2/attempt_no_agg.pkl')\n",
    "explanation_agg.to_pickle('../input/train-df2/explanation_agg.pkl')\n",
    "max_timestamp_u.to_pickle('../input/train-df2/max_timestamp_u.pkl')\n",
    "max_timestamp_u2.to_pickle('../input/train-df2/max_timestamp_u2.pkl')\n",
    "max_timestamp_u3.to_pickle('../input/train-df2/max_timestamp_u3.pkl')\n",
    "task_container_agg.to_pickle('../input/train-df2/task_container_agg.pkl')\n",
    "user_agg.to_pickle('../input/train-df2/user_agg.pkl')\n",
    "user_lecture_agg.to_pickle('../input/train-df2/user_lecture_agg.pkl')\n",
    "user_prior_question_elapsed_time.to_pickle('../input/train-df2/user_prior_question_elapsed_time.pkl')"
   ]
  },
  {
   "cell_type": "markdown",
   "metadata": {},
   "source": [
    "# Train"
   ]
  },
  {
   "cell_type": "code",
   "execution_count": 7,
   "metadata": {},
   "outputs": [],
   "source": [
    "features_dict = {\n",
    "    'timestamp':'float16',#\n",
    "    'user_interaction_count':'int16',\n",
    "    'user_interaction_timestamp_mean':'float32',\n",
    "    'lagtime':'float32',#\n",
    "    'lagtime2':'float32',\n",
    "    'lagtime3':'float32',\n",
    "    'content_id':'int16',\n",
    "    'task_container_id':'int16',\n",
    "    'user_lecture_sum':'int16',#\n",
    "    'user_lecture_lv':'float16',##\n",
    "    'prior_question_elapsed_time':'float32',#\n",
    "    'delta_prior_question_elapsed_time':'int32',#\n",
    "    'user_correctness':'float16',#\n",
    "    'user_uncorrect_count':'int16',#\n",
    "    'user_correct_count':'int16',#\n",
    "    'content_correctness_std':'float16',\n",
    "    'content_correct_count':'int32',\n",
    "    'content_uncorrect_count':'int32',#\n",
    "    'content_elapsed_time_mean':'float16',\n",
    "    'content_had_explanation_mean':'float16',\n",
    "    'content_explation_false_mean':'float16',\n",
    "    'content_explation_true_mean':'float16',\n",
    "    'task_container_correctness':'float16',\n",
    "    'task_container_std':'float16',\n",
    "    'task_container_cor_count':'int32',#\n",
    "    'task_container_uncor_count':'int32',#\n",
    "    'attempt_no':'int8',#\n",
    "    'part':'int8',\n",
    "    'part_correctness_mean':'float16',\n",
    "    'part_correctness_std':'float16',\n",
    "    'part_uncor_count':'int32',\n",
    "    'part_cor_count':'int32',\n",
    "    'tags0': 'int8',\n",
    "    'tags1': 'int8',\n",
    "    'tags2': 'int8',\n",
    "    'tags3': 'int8',\n",
    "    'tags4': 'int8',\n",
    "    'tags5': 'int8',\n",
    "    'part_bundle_id':'int32',\n",
    "    'content_sub_bundle':'int8',\n",
    "    'prior_question_had_explanation':'int8',\n",
    "    'explanation_mean':'float16', #\n",
    "    'explanation_false_count':'int16',#\n",
    "    'explanation_true_count':'int16',#\n",
    "}\n",
    "categorical_columns= [\n",
    "    'content_id',\n",
    "    'task_container_id',\n",
    "    'part',\n",
    "    'tags0',\n",
    "    'tags1',\n",
    "    'tags2',\n",
    "    'tags3',\n",
    "    'tags4',\n",
    "    'tags5',\n",
    "    'part_bundle_id',\n",
    "    'content_sub_bundle',\n",
    "    'prior_question_had_explanation', \n",
    "]\n",
    "\n",
    "features=list(features_dict.keys())"
   ]
  },
  {
   "cell_type": "code",
   "execution_count": 8,
   "metadata": {},
   "outputs": [
    {
     "data": {
      "text/plain": [
       "44"
      ]
     },
     "execution_count": 8,
     "metadata": {},
     "output_type": "execute_result"
    }
   ],
   "source": [
    "len(features)"
   ]
  },
  {
   "cell_type": "code",
   "execution_count": 9,
   "metadata": {},
   "outputs": [],
   "source": [
    "flag_lgbm=True\n",
    "\n",
    "params = {\n",
    "    'num_leaves': 200,\n",
    "    'max_bin':450,\n",
    "    'min_child_weight': 0.03454472573214212,\n",
    "    'feature_fraction': 0.52,\n",
    "    'bagging_fraction': 0.52,\n",
    "    'min_data_in_leaf': 106,\n",
    "    'objective': 'binary',\n",
    "    'learning_rate': 0.05,\n",
    "    \"boosting_type\": \"gbdt\",\n",
    "    \"metric\": 'auc',\n",
    "    \"bagging_seed\": 11,\n",
    "    \"verbosity\": -1,\n",
    "    'reg_alpha': 0.3899927210061127,\n",
    "    'reg_lambda': 0.6485237330340494,\n",
    "    'random_state': 47\n",
    "}"
   ]
  },
  {
   "cell_type": "code",
   "execution_count": 10,
   "metadata": {},
   "outputs": [
    {
     "name": "stdout",
     "output_type": "stream",
     "text": [
      "pd.merge(train_df_clf, questions_df)\n",
      "valid_df\n",
      "train_df length： 82193120\n",
      "valid_df length： 17078180\n"
     ]
    },
    {
     "name": "stderr",
     "output_type": "stream",
     "text": [
      "/opt/anaconda3/lib/python3.7/site-packages/lightgbm/basic.py:1247: UserWarning: categorical_feature in Dataset is overridden.\n",
      "New categorical_feature is ['content_id', 'content_sub_bundle', 'part', 'part_bundle_id', 'prior_question_had_explanation', 'tags0', 'tags1', 'tags2', 'tags3', 'tags4', 'tags5', 'task_container_id']\n",
      "  'New categorical_feature is {}'.format(sorted(list(categorical_feature))))\n"
     ]
    },
    {
     "name": "stdout",
     "output_type": "stream",
     "text": [
      "Training until validation scores don't improve for 50 rounds\n",
      "[5]\ttraining's auc: 0.755175\tvalid_1's auc: 0.755143\n",
      "[10]\ttraining's auc: 0.758004\tvalid_1's auc: 0.757971\n",
      "[15]\ttraining's auc: 0.760869\tvalid_1's auc: 0.760909\n",
      "[20]\ttraining's auc: 0.762402\tvalid_1's auc: 0.762433\n",
      "[25]\ttraining's auc: 0.762573\tvalid_1's auc: 0.762564\n",
      "[30]\ttraining's auc: 0.763264\tvalid_1's auc: 0.763248\n",
      "[35]\ttraining's auc: 0.764754\tvalid_1's auc: 0.764729\n",
      "[40]\ttraining's auc: 0.765857\tvalid_1's auc: 0.765794\n",
      "[45]\ttraining's auc: 0.76672\tvalid_1's auc: 0.766605\n",
      "[50]\ttraining's auc: 0.767686\tvalid_1's auc: 0.767548\n",
      "[55]\ttraining's auc: 0.768506\tvalid_1's auc: 0.768344\n",
      "[60]\ttraining's auc: 0.769311\tvalid_1's auc: 0.769126\n",
      "[65]\ttraining's auc: 0.769906\tvalid_1's auc: 0.769705\n",
      "[70]\ttraining's auc: 0.770618\tvalid_1's auc: 0.770368\n",
      "[75]\ttraining's auc: 0.771261\tvalid_1's auc: 0.77098\n",
      "[80]\ttraining's auc: 0.771778\tvalid_1's auc: 0.771473\n",
      "[85]\ttraining's auc: 0.772253\tvalid_1's auc: 0.771912\n",
      "[90]\ttraining's auc: 0.77259\tvalid_1's auc: 0.772199\n",
      "[95]\ttraining's auc: 0.773134\tvalid_1's auc: 0.772696\n",
      "[100]\ttraining's auc: 0.77361\tvalid_1's auc: 0.773126\n",
      "[105]\ttraining's auc: 0.773954\tvalid_1's auc: 0.773437\n",
      "[110]\ttraining's auc: 0.77436\tvalid_1's auc: 0.773794\n",
      "[115]\ttraining's auc: 0.77474\tvalid_1's auc: 0.774133\n",
      "[120]\ttraining's auc: 0.775061\tvalid_1's auc: 0.774402\n",
      "[125]\ttraining's auc: 0.775436\tvalid_1's auc: 0.774727\n",
      "[130]\ttraining's auc: 0.775726\tvalid_1's auc: 0.774973\n",
      "[135]\ttraining's auc: 0.776004\tvalid_1's auc: 0.775201\n",
      "[140]\ttraining's auc: 0.77625\tvalid_1's auc: 0.775408\n",
      "[145]\ttraining's auc: 0.776488\tvalid_1's auc: 0.775583\n",
      "[150]\ttraining's auc: 0.776707\tvalid_1's auc: 0.775753\n",
      "[155]\ttraining's auc: 0.776938\tvalid_1's auc: 0.775932\n",
      "[160]\ttraining's auc: 0.777125\tvalid_1's auc: 0.77606\n",
      "[165]\ttraining's auc: 0.777343\tvalid_1's auc: 0.776201\n",
      "[170]\ttraining's auc: 0.777516\tvalid_1's auc: 0.776319\n",
      "[175]\ttraining's auc: 0.777693\tvalid_1's auc: 0.776451\n",
      "[180]\ttraining's auc: 0.7779\tvalid_1's auc: 0.776594\n",
      "[185]\ttraining's auc: 0.778059\tvalid_1's auc: 0.776698\n",
      "[190]\ttraining's auc: 0.778283\tvalid_1's auc: 0.776869\n",
      "[195]\ttraining's auc: 0.77848\tvalid_1's auc: 0.777001\n",
      "[200]\ttraining's auc: 0.77864\tvalid_1's auc: 0.777096\n",
      "[205]\ttraining's auc: 0.778786\tvalid_1's auc: 0.777168\n",
      "[210]\ttraining's auc: 0.778934\tvalid_1's auc: 0.777248\n",
      "[215]\ttraining's auc: 0.779074\tvalid_1's auc: 0.777319\n",
      "[220]\ttraining's auc: 0.779248\tvalid_1's auc: 0.777435\n",
      "[225]\ttraining's auc: 0.779388\tvalid_1's auc: 0.777516\n",
      "[230]\ttraining's auc: 0.779552\tvalid_1's auc: 0.777622\n",
      "[235]\ttraining's auc: 0.779663\tvalid_1's auc: 0.777705\n",
      "[240]\ttraining's auc: 0.779798\tvalid_1's auc: 0.777772\n",
      "[245]\ttraining's auc: 0.779952\tvalid_1's auc: 0.777849\n",
      "[250]\ttraining's auc: 0.780091\tvalid_1's auc: 0.77791\n",
      "[255]\ttraining's auc: 0.780203\tvalid_1's auc: 0.777986\n",
      "[260]\ttraining's auc: 0.780325\tvalid_1's auc: 0.778045\n",
      "[265]\ttraining's auc: 0.780429\tvalid_1's auc: 0.7781\n",
      "[270]\ttraining's auc: 0.780538\tvalid_1's auc: 0.778152\n",
      "[275]\ttraining's auc: 0.780641\tvalid_1's auc: 0.778189\n",
      "[280]\ttraining's auc: 0.780745\tvalid_1's auc: 0.778229\n",
      "[285]\ttraining's auc: 0.780881\tvalid_1's auc: 0.778294\n",
      "[290]\ttraining's auc: 0.780979\tvalid_1's auc: 0.778335\n",
      "[295]\ttraining's auc: 0.781085\tvalid_1's auc: 0.778388\n",
      "[300]\ttraining's auc: 0.781186\tvalid_1's auc: 0.778425\n",
      "[305]\ttraining's auc: 0.781286\tvalid_1's auc: 0.778484\n",
      "[310]\ttraining's auc: 0.781389\tvalid_1's auc: 0.778509\n",
      "[315]\ttraining's auc: 0.781471\tvalid_1's auc: 0.778549\n",
      "[320]\ttraining's auc: 0.781589\tvalid_1's auc: 0.778605\n",
      "[325]\ttraining's auc: 0.781687\tvalid_1's auc: 0.778649\n",
      "[330]\ttraining's auc: 0.781784\tvalid_1's auc: 0.778687\n",
      "[335]\ttraining's auc: 0.781878\tvalid_1's auc: 0.778727\n",
      "[340]\ttraining's auc: 0.781965\tvalid_1's auc: 0.77878\n",
      "[345]\ttraining's auc: 0.782055\tvalid_1's auc: 0.778821\n",
      "[350]\ttraining's auc: 0.78215\tvalid_1's auc: 0.778847\n",
      "[355]\ttraining's auc: 0.782233\tvalid_1's auc: 0.778885\n",
      "[360]\ttraining's auc: 0.782317\tvalid_1's auc: 0.778908\n",
      "[365]\ttraining's auc: 0.782406\tvalid_1's auc: 0.778934\n",
      "[370]\ttraining's auc: 0.782482\tvalid_1's auc: 0.778966\n",
      "[375]\ttraining's auc: 0.782573\tvalid_1's auc: 0.778995\n",
      "[380]\ttraining's auc: 0.782655\tvalid_1's auc: 0.779013\n",
      "[385]\ttraining's auc: 0.782737\tvalid_1's auc: 0.779049\n",
      "[390]\ttraining's auc: 0.782802\tvalid_1's auc: 0.779079\n",
      "[395]\ttraining's auc: 0.782877\tvalid_1's auc: 0.779089\n",
      "[400]\ttraining's auc: 0.782953\tvalid_1's auc: 0.779108\n",
      "[405]\ttraining's auc: 0.783021\tvalid_1's auc: 0.779127\n",
      "[410]\ttraining's auc: 0.783077\tvalid_1's auc: 0.779142\n",
      "[415]\ttraining's auc: 0.783139\tvalid_1's auc: 0.779164\n",
      "[420]\ttraining's auc: 0.783228\tvalid_1's auc: 0.779199\n",
      "[425]\ttraining's auc: 0.7833\tvalid_1's auc: 0.779211\n",
      "[430]\ttraining's auc: 0.783356\tvalid_1's auc: 0.779214\n",
      "[435]\ttraining's auc: 0.783418\tvalid_1's auc: 0.779242\n",
      "[440]\ttraining's auc: 0.783492\tvalid_1's auc: 0.779269\n",
      "[445]\ttraining's auc: 0.783567\tvalid_1's auc: 0.779293\n",
      "[450]\ttraining's auc: 0.783625\tvalid_1's auc: 0.779306\n",
      "[455]\ttraining's auc: 0.783703\tvalid_1's auc: 0.779318\n",
      "[460]\ttraining's auc: 0.783776\tvalid_1's auc: 0.77934\n",
      "[465]\ttraining's auc: 0.783843\tvalid_1's auc: 0.779352\n",
      "[470]\ttraining's auc: 0.783923\tvalid_1's auc: 0.779373\n",
      "[475]\ttraining's auc: 0.783981\tvalid_1's auc: 0.779384\n",
      "[480]\ttraining's auc: 0.784024\tvalid_1's auc: 0.779391\n",
      "[485]\ttraining's auc: 0.784095\tvalid_1's auc: 0.779401\n",
      "[490]\ttraining's auc: 0.784164\tvalid_1's auc: 0.779425\n",
      "[495]\ttraining's auc: 0.784232\tvalid_1's auc: 0.779443\n",
      "[500]\ttraining's auc: 0.784287\tvalid_1's auc: 0.779449\n",
      "[505]\ttraining's auc: 0.784346\tvalid_1's auc: 0.779457\n",
      "[510]\ttraining's auc: 0.78441\tvalid_1's auc: 0.779476\n",
      "[515]\ttraining's auc: 0.78448\tvalid_1's auc: 0.7795\n",
      "[520]\ttraining's auc: 0.78453\tvalid_1's auc: 0.779503\n",
      "[525]\ttraining's auc: 0.784606\tvalid_1's auc: 0.779521\n",
      "[530]\ttraining's auc: 0.78468\tvalid_1's auc: 0.779556\n",
      "[535]\ttraining's auc: 0.784748\tvalid_1's auc: 0.779579\n",
      "[540]\ttraining's auc: 0.784801\tvalid_1's auc: 0.779591\n",
      "[545]\ttraining's auc: 0.784853\tvalid_1's auc: 0.779597\n",
      "[550]\ttraining's auc: 0.784902\tvalid_1's auc: 0.779604\n",
      "[555]\ttraining's auc: 0.78496\tvalid_1's auc: 0.779613\n",
      "[560]\ttraining's auc: 0.785012\tvalid_1's auc: 0.779625\n",
      "[565]\ttraining's auc: 0.785078\tvalid_1's auc: 0.779648\n",
      "[570]\ttraining's auc: 0.78512\tvalid_1's auc: 0.779654\n",
      "[575]\ttraining's auc: 0.785177\tvalid_1's auc: 0.77966\n",
      "[580]\ttraining's auc: 0.785228\tvalid_1's auc: 0.779669\n",
      "[585]\ttraining's auc: 0.78529\tvalid_1's auc: 0.779694\n",
      "[590]\ttraining's auc: 0.785348\tvalid_1's auc: 0.77971\n",
      "[595]\ttraining's auc: 0.785415\tvalid_1's auc: 0.779726\n",
      "[600]\ttraining's auc: 0.785491\tvalid_1's auc: 0.779741\n",
      "[605]\ttraining's auc: 0.785555\tvalid_1's auc: 0.779769\n",
      "[610]\ttraining's auc: 0.785604\tvalid_1's auc: 0.779776\n",
      "[615]\ttraining's auc: 0.785662\tvalid_1's auc: 0.779792\n",
      "[620]\ttraining's auc: 0.785713\tvalid_1's auc: 0.779797\n",
      "[625]\ttraining's auc: 0.785756\tvalid_1's auc: 0.779802\n",
      "[630]\ttraining's auc: 0.785811\tvalid_1's auc: 0.779813\n",
      "[635]\ttraining's auc: 0.785872\tvalid_1's auc: 0.779827\n",
      "[640]\ttraining's auc: 0.785917\tvalid_1's auc: 0.779831\n",
      "[645]\ttraining's auc: 0.785968\tvalid_1's auc: 0.779839\n",
      "[650]\ttraining's auc: 0.786011\tvalid_1's auc: 0.779848\n",
      "[655]\ttraining's auc: 0.786057\tvalid_1's auc: 0.77986\n",
      "[660]\ttraining's auc: 0.786127\tvalid_1's auc: 0.77987\n",
      "[665]\ttraining's auc: 0.786166\tvalid_1's auc: 0.779875\n",
      "[670]\ttraining's auc: 0.786226\tvalid_1's auc: 0.779881\n",
      "[675]\ttraining's auc: 0.786271\tvalid_1's auc: 0.779891\n",
      "[680]\ttraining's auc: 0.786316\tvalid_1's auc: 0.779893\n",
      "[685]\ttraining's auc: 0.786367\tvalid_1's auc: 0.779899\n",
      "[690]\ttraining's auc: 0.786408\tvalid_1's auc: 0.779903\n",
      "[695]\ttraining's auc: 0.786465\tvalid_1's auc: 0.779922\n",
      "[700]\ttraining's auc: 0.786529\tvalid_1's auc: 0.779934\n",
      "[705]\ttraining's auc: 0.786591\tvalid_1's auc: 0.779942\n",
      "[710]\ttraining's auc: 0.786635\tvalid_1's auc: 0.779944\n",
      "[715]\ttraining's auc: 0.786697\tvalid_1's auc: 0.779951\n",
      "[720]\ttraining's auc: 0.786739\tvalid_1's auc: 0.779952\n",
      "[725]\ttraining's auc: 0.786798\tvalid_1's auc: 0.779966\n",
      "[730]\ttraining's auc: 0.786843\tvalid_1's auc: 0.779986\n",
      "[735]\ttraining's auc: 0.786892\tvalid_1's auc: 0.779999\n",
      "[740]\ttraining's auc: 0.78693\tvalid_1's auc: 0.779997\n",
      "[745]\ttraining's auc: 0.78697\tvalid_1's auc: 0.780002\n",
      "[750]\ttraining's auc: 0.787016\tvalid_1's auc: 0.78\n",
      "[755]\ttraining's auc: 0.787058\tvalid_1's auc: 0.780012\n",
      "[760]\ttraining's auc: 0.787102\tvalid_1's auc: 0.780024\n",
      "[765]\ttraining's auc: 0.787141\tvalid_1's auc: 0.780029\n",
      "[770]\ttraining's auc: 0.787197\tvalid_1's auc: 0.780032\n",
      "[775]\ttraining's auc: 0.787242\tvalid_1's auc: 0.780037\n",
      "[780]\ttraining's auc: 0.787297\tvalid_1's auc: 0.780041\n",
      "[785]\ttraining's auc: 0.787338\tvalid_1's auc: 0.780056\n",
      "[790]\ttraining's auc: 0.787379\tvalid_1's auc: 0.780057\n",
      "[795]\ttraining's auc: 0.787417\tvalid_1's auc: 0.780071\n",
      "[800]\ttraining's auc: 0.787465\tvalid_1's auc: 0.780082\n",
      "[805]\ttraining's auc: 0.787523\tvalid_1's auc: 0.780086\n",
      "[810]\ttraining's auc: 0.787571\tvalid_1's auc: 0.780093\n",
      "[815]\ttraining's auc: 0.787624\tvalid_1's auc: 0.780101\n",
      "[820]\ttraining's auc: 0.787661\tvalid_1's auc: 0.780106\n",
      "[825]\ttraining's auc: 0.787701\tvalid_1's auc: 0.780114\n",
      "[830]\ttraining's auc: 0.787765\tvalid_1's auc: 0.780131\n",
      "[835]\ttraining's auc: 0.787815\tvalid_1's auc: 0.780139\n",
      "[840]\ttraining's auc: 0.787873\tvalid_1's auc: 0.780152\n",
      "[845]\ttraining's auc: 0.787915\tvalid_1's auc: 0.780155\n",
      "[850]\ttraining's auc: 0.787956\tvalid_1's auc: 0.780156\n",
      "[855]\ttraining's auc: 0.787996\tvalid_1's auc: 0.780163\n",
      "[860]\ttraining's auc: 0.788046\tvalid_1's auc: 0.780167\n",
      "[865]\ttraining's auc: 0.788086\tvalid_1's auc: 0.780168\n",
      "[870]\ttraining's auc: 0.788122\tvalid_1's auc: 0.780173\n",
      "[875]\ttraining's auc: 0.788169\tvalid_1's auc: 0.780185\n",
      "[880]\ttraining's auc: 0.788214\tvalid_1's auc: 0.780188\n",
      "[885]\ttraining's auc: 0.788256\tvalid_1's auc: 0.780199\n",
      "[890]\ttraining's auc: 0.788286\tvalid_1's auc: 0.780201\n",
      "[895]\ttraining's auc: 0.788324\tvalid_1's auc: 0.780203\n",
      "[900]\ttraining's auc: 0.78837\tvalid_1's auc: 0.780206\n",
      "[905]\ttraining's auc: 0.788397\tvalid_1's auc: 0.780206\n",
      "[910]\ttraining's auc: 0.788431\tvalid_1's auc: 0.780209\n",
      "[915]\ttraining's auc: 0.788462\tvalid_1's auc: 0.780208\n",
      "[920]\ttraining's auc: 0.7885\tvalid_1's auc: 0.780217\n",
      "[925]\ttraining's auc: 0.788533\tvalid_1's auc: 0.780221\n",
      "[930]\ttraining's auc: 0.788575\tvalid_1's auc: 0.780233\n",
      "[935]\ttraining's auc: 0.788617\tvalid_1's auc: 0.780236\n",
      "[940]\ttraining's auc: 0.788658\tvalid_1's auc: 0.780237\n",
      "[945]\ttraining's auc: 0.788696\tvalid_1's auc: 0.780241\n",
      "[950]\ttraining's auc: 0.788737\tvalid_1's auc: 0.780249\n",
      "[955]\ttraining's auc: 0.78877\tvalid_1's auc: 0.780254\n",
      "[960]\ttraining's auc: 0.788821\tvalid_1's auc: 0.780267\n",
      "[965]\ttraining's auc: 0.788881\tvalid_1's auc: 0.780283\n",
      "[970]\ttraining's auc: 0.788933\tvalid_1's auc: 0.780285\n",
      "[975]\ttraining's auc: 0.788992\tvalid_1's auc: 0.780292\n",
      "[980]\ttraining's auc: 0.789033\tvalid_1's auc: 0.780294\n",
      "[985]\ttraining's auc: 0.789074\tvalid_1's auc: 0.780301\n",
      "[990]\ttraining's auc: 0.789113\tvalid_1's auc: 0.780312\n",
      "[995]\ttraining's auc: 0.789152\tvalid_1's auc: 0.780318\n",
      "[1000]\ttraining's auc: 0.789192\tvalid_1's auc: 0.78033\n",
      "[1005]\ttraining's auc: 0.789233\tvalid_1's auc: 0.780339\n",
      "[1010]\ttraining's auc: 0.789269\tvalid_1's auc: 0.780337\n",
      "[1015]\ttraining's auc: 0.789318\tvalid_1's auc: 0.78035\n",
      "[1020]\ttraining's auc: 0.789353\tvalid_1's auc: 0.780354\n",
      "[1025]\ttraining's auc: 0.789387\tvalid_1's auc: 0.780355\n",
      "[1030]\ttraining's auc: 0.789423\tvalid_1's auc: 0.780359\n",
      "[1035]\ttraining's auc: 0.789456\tvalid_1's auc: 0.780362\n",
      "[1040]\ttraining's auc: 0.789502\tvalid_1's auc: 0.780363\n",
      "[1045]\ttraining's auc: 0.789533\tvalid_1's auc: 0.780369\n",
      "[1050]\ttraining's auc: 0.78957\tvalid_1's auc: 0.780373\n",
      "[1055]\ttraining's auc: 0.789605\tvalid_1's auc: 0.780377\n",
      "[1060]\ttraining's auc: 0.789643\tvalid_1's auc: 0.780378\n",
      "[1065]\ttraining's auc: 0.789672\tvalid_1's auc: 0.780381\n",
      "[1070]\ttraining's auc: 0.789698\tvalid_1's auc: 0.78038\n",
      "[1075]\ttraining's auc: 0.789733\tvalid_1's auc: 0.780384\n",
      "[1080]\ttraining's auc: 0.789762\tvalid_1's auc: 0.780388\n",
      "[1085]\ttraining's auc: 0.789798\tvalid_1's auc: 0.780392\n",
      "[1090]\ttraining's auc: 0.789849\tvalid_1's auc: 0.780397\n",
      "[1095]\ttraining's auc: 0.789878\tvalid_1's auc: 0.780397\n",
      "[1100]\ttraining's auc: 0.789929\tvalid_1's auc: 0.780402\n",
      "[1105]\ttraining's auc: 0.789966\tvalid_1's auc: 0.780401\n",
      "[1110]\ttraining's auc: 0.790006\tvalid_1's auc: 0.780403\n",
      "[1115]\ttraining's auc: 0.790052\tvalid_1's auc: 0.780405\n",
      "[1120]\ttraining's auc: 0.790084\tvalid_1's auc: 0.780407\n",
      "[1125]\ttraining's auc: 0.790126\tvalid_1's auc: 0.780411\n",
      "[1130]\ttraining's auc: 0.790165\tvalid_1's auc: 0.780412\n",
      "[1135]\ttraining's auc: 0.790195\tvalid_1's auc: 0.780412\n",
      "[1140]\ttraining's auc: 0.790246\tvalid_1's auc: 0.78042\n",
      "[1145]\ttraining's auc: 0.79028\tvalid_1's auc: 0.780424\n",
      "[1150]\ttraining's auc: 0.790313\tvalid_1's auc: 0.780428\n",
      "[1155]\ttraining's auc: 0.790348\tvalid_1's auc: 0.78043\n",
      "[1160]\ttraining's auc: 0.790384\tvalid_1's auc: 0.780431\n",
      "[1165]\ttraining's auc: 0.790431\tvalid_1's auc: 0.780434\n",
      "[1170]\ttraining's auc: 0.790473\tvalid_1's auc: 0.780437\n",
      "[1175]\ttraining's auc: 0.790513\tvalid_1's auc: 0.780442\n",
      "[1180]\ttraining's auc: 0.790543\tvalid_1's auc: 0.780446\n",
      "[1185]\ttraining's auc: 0.790587\tvalid_1's auc: 0.780457\n",
      "[1190]\ttraining's auc: 0.790611\tvalid_1's auc: 0.780461\n",
      "[1195]\ttraining's auc: 0.790651\tvalid_1's auc: 0.780463\n",
      "[1200]\ttraining's auc: 0.790679\tvalid_1's auc: 0.780461\n",
      "[1205]\ttraining's auc: 0.790715\tvalid_1's auc: 0.780465\n",
      "[1210]\ttraining's auc: 0.790742\tvalid_1's auc: 0.780467\n",
      "[1215]\ttraining's auc: 0.790787\tvalid_1's auc: 0.780472\n",
      "[1220]\ttraining's auc: 0.79081\tvalid_1's auc: 0.780472\n",
      "[1225]\ttraining's auc: 0.790844\tvalid_1's auc: 0.780474\n",
      "[1230]\ttraining's auc: 0.790888\tvalid_1's auc: 0.780479\n",
      "[1235]\ttraining's auc: 0.79092\tvalid_1's auc: 0.780477\n",
      "[1240]\ttraining's auc: 0.79096\tvalid_1's auc: 0.78048\n",
      "[1245]\ttraining's auc: 0.790993\tvalid_1's auc: 0.780486\n",
      "[1250]\ttraining's auc: 0.791013\tvalid_1's auc: 0.780485\n",
      "[1255]\ttraining's auc: 0.791051\tvalid_1's auc: 0.780491\n",
      "[1260]\ttraining's auc: 0.791085\tvalid_1's auc: 0.780492\n",
      "[1265]\ttraining's auc: 0.791115\tvalid_1's auc: 0.780494\n",
      "[1270]\ttraining's auc: 0.791144\tvalid_1's auc: 0.780495\n",
      "[1275]\ttraining's auc: 0.79117\tvalid_1's auc: 0.780498\n",
      "[1280]\ttraining's auc: 0.7912\tvalid_1's auc: 0.780502\n",
      "[1285]\ttraining's auc: 0.791225\tvalid_1's auc: 0.780509\n",
      "[1290]\ttraining's auc: 0.79125\tvalid_1's auc: 0.780509\n",
      "[1295]\ttraining's auc: 0.79128\tvalid_1's auc: 0.780509\n",
      "[1300]\ttraining's auc: 0.791312\tvalid_1's auc: 0.780508\n",
      "[1305]\ttraining's auc: 0.791332\tvalid_1's auc: 0.780508\n",
      "[1310]\ttraining's auc: 0.791362\tvalid_1's auc: 0.780518\n",
      "[1315]\ttraining's auc: 0.791404\tvalid_1's auc: 0.780524\n",
      "[1320]\ttraining's auc: 0.791435\tvalid_1's auc: 0.780533\n",
      "[1325]\ttraining's auc: 0.79145\tvalid_1's auc: 0.780535\n",
      "[1330]\ttraining's auc: 0.791496\tvalid_1's auc: 0.780539\n",
      "[1335]\ttraining's auc: 0.791529\tvalid_1's auc: 0.780539\n",
      "[1340]\ttraining's auc: 0.791554\tvalid_1's auc: 0.780541\n",
      "[1345]\ttraining's auc: 0.791584\tvalid_1's auc: 0.780545\n",
      "[1350]\ttraining's auc: 0.791598\tvalid_1's auc: 0.780546\n",
      "[1355]\ttraining's auc: 0.791619\tvalid_1's auc: 0.780543\n",
      "[1360]\ttraining's auc: 0.791647\tvalid_1's auc: 0.780544\n",
      "[1365]\ttraining's auc: 0.791687\tvalid_1's auc: 0.780546\n",
      "[1370]\ttraining's auc: 0.791727\tvalid_1's auc: 0.780548\n",
      "[1375]\ttraining's auc: 0.791756\tvalid_1's auc: 0.780555\n",
      "[1380]\ttraining's auc: 0.79179\tvalid_1's auc: 0.780563\n",
      "[1385]\ttraining's auc: 0.791819\tvalid_1's auc: 0.780565\n",
      "[1390]\ttraining's auc: 0.791851\tvalid_1's auc: 0.780569\n",
      "[1395]\ttraining's auc: 0.79188\tvalid_1's auc: 0.78057\n",
      "[1400]\ttraining's auc: 0.791915\tvalid_1's auc: 0.78058\n",
      "[1405]\ttraining's auc: 0.791939\tvalid_1's auc: 0.780583\n",
      "[1410]\ttraining's auc: 0.79197\tvalid_1's auc: 0.780584\n",
      "[1415]\ttraining's auc: 0.791987\tvalid_1's auc: 0.780586\n",
      "[1420]\ttraining's auc: 0.792016\tvalid_1's auc: 0.780591\n",
      "[1425]\ttraining's auc: 0.792064\tvalid_1's auc: 0.780595\n",
      "[1430]\ttraining's auc: 0.7921\tvalid_1's auc: 0.780594\n",
      "[1435]\ttraining's auc: 0.792118\tvalid_1's auc: 0.780606\n",
      "[1440]\ttraining's auc: 0.792148\tvalid_1's auc: 0.780604\n",
      "[1445]\ttraining's auc: 0.792184\tvalid_1's auc: 0.780607\n",
      "[1450]\ttraining's auc: 0.79222\tvalid_1's auc: 0.780615\n",
      "[1455]\ttraining's auc: 0.79224\tvalid_1's auc: 0.780619\n",
      "[1460]\ttraining's auc: 0.792265\tvalid_1's auc: 0.780621\n",
      "[1465]\ttraining's auc: 0.7923\tvalid_1's auc: 0.780621\n",
      "[1470]\ttraining's auc: 0.792333\tvalid_1's auc: 0.780619\n",
      "[1475]\ttraining's auc: 0.792355\tvalid_1's auc: 0.780618\n",
      "[1480]\ttraining's auc: 0.792404\tvalid_1's auc: 0.780623\n",
      "[1485]\ttraining's auc: 0.792423\tvalid_1's auc: 0.780623\n",
      "[1490]\ttraining's auc: 0.792448\tvalid_1's auc: 0.780624\n",
      "[1495]\ttraining's auc: 0.792475\tvalid_1's auc: 0.780631\n",
      "[1500]\ttraining's auc: 0.792504\tvalid_1's auc: 0.780634\n",
      "[1505]\ttraining's auc: 0.792521\tvalid_1's auc: 0.780634\n",
      "[1510]\ttraining's auc: 0.792547\tvalid_1's auc: 0.780634\n",
      "[1515]\ttraining's auc: 0.792568\tvalid_1's auc: 0.780635\n",
      "[1520]\ttraining's auc: 0.792598\tvalid_1's auc: 0.780635\n",
      "[1525]\ttraining's auc: 0.792635\tvalid_1's auc: 0.780632\n",
      "[1530]\ttraining's auc: 0.792657\tvalid_1's auc: 0.780631\n",
      "[1535]\ttraining's auc: 0.792679\tvalid_1's auc: 0.780631\n",
      "[1540]\ttraining's auc: 0.792701\tvalid_1's auc: 0.780629\n",
      "[1545]\ttraining's auc: 0.792737\tvalid_1's auc: 0.780631\n",
      "[1550]\ttraining's auc: 0.792767\tvalid_1's auc: 0.780631\n",
      "[1555]\ttraining's auc: 0.7928\tvalid_1's auc: 0.78063\n",
      "[1560]\ttraining's auc: 0.792826\tvalid_1's auc: 0.780632\n",
      "Early stopping, best iteration is:\n",
      "[1514]\ttraining's auc: 0.792565\tvalid_1's auc: 0.780636\n"
     ]
    },
    {
     "data": {
      "text/plain": [
       "466"
      ]
     },
     "execution_count": 10,
     "metadata": {},
     "output_type": "execute_result"
    }
   ],
   "source": [
    "users=train_df['user_id'].drop_duplicates()\n",
    "users=users.sample(frac=0.08, random_state = SEED)\n",
    "users_df=pd.DataFrame()\n",
    "users_df['user_id']=users.values\n",
    "\n",
    "valid_df_newuser = pd.merge(train_df, users_df, on=['user_id'], how='inner',right_index=True)\n",
    "del users_df\n",
    "del users\n",
    "gc.collect()\n",
    "\n",
    "train_df.drop(valid_df_newuser.index, inplace=True)\n",
    "print('pd.merge(train_df_clf, questions_df)')\n",
    "\n",
    "train_df = pd.merge(train_df, questions_df, on='content_id', how='left',right_index=True)#\n",
    "valid_df_newuser = pd.merge(valid_df_newuser, questions_df, on='content_id', how='left',right_index=True)#\n",
    "\n",
    "print('valid_df')\n",
    "valid_df=train_df.sample(frac=0.1)\n",
    "train_df.drop(valid_df.index, inplace=True)\n",
    "\n",
    "valid_df = valid_df.append(valid_df_newuser)\n",
    "del valid_df_newuser\n",
    "gc.collect()\n",
    "\n",
    "print('train_df length：',len(train_df))\n",
    "print('valid_df length：',len(valid_df))\n",
    "\n",
    "X_train_np = train_df[features].values.astype(np.float32)\n",
    "X_valid_np = valid_df[features].values.astype(np.float32)\n",
    "tr_data = lgb.Dataset(X_train_np, label=train_df[target], feature_name=list(features))\n",
    "va_data = lgb.Dataset(X_valid_np, label=valid_df[target], feature_name=list(features))\n",
    "\n",
    "del X_train_np\n",
    "del X_valid_np\n",
    "gc.collect()\n",
    "\n",
    "model = lgb.train(\n",
    "    params, \n",
    "    tr_data,\n",
    "    num_boost_round=5000,\n",
    "    valid_sets=[tr_data, va_data],\n",
    "    early_stopping_rounds=50,\n",
    "    feature_name=features,\n",
    "    categorical_feature=categorical_columns,\n",
    "    verbose_eval=5\n",
    ")\n",
    "\n",
    "model.save_model('model_1500.txt')\n",
    "\n",
    "del tr_data\n",
    "del va_data\n",
    "del train_df\n",
    "del valid_df\n",
    "gc.collect()"
   ]
  },
  {
   "cell_type": "code",
   "execution_count": 89,
   "metadata": {},
   "outputs": [
    {
     "data": {
      "image/png": "[encoded data removed]",
      "text/plain": [
       "<Figure size 1080x1080 with 1 Axes>"
      ]
     },
     "metadata": {
      "needs_background": "light"
     },
     "output_type": "display_data"
    },
    {
     "data": {
      "text/plain": [
       "0"
      ]
     },
     "execution_count": 89,
     "metadata": {},
     "output_type": "execute_result"
    }
   ],
   "source": [
    "fig,ax = plt.subplots(figsize=(15,15))\n",
    "lgb.plot_importance(model, ax=ax,importance_type='gain',max_num_features=50)\n",
    "plt.show()\n",
    "\n",
    "del tr_data\n",
    "del va_data\n",
    "gc.collect()"
   ]
  },
  {
   "cell_type": "code",
   "execution_count": null,
   "metadata": {},
   "outputs": [],
   "source": []
  }
 ],
 "metadata": {
  "kernelspec": {
   "display_name": "Python 3",
   "language": "python",
   "name": "python3"
  },
  "language_info": {
   "codemirror_mode": {
    "name": "ipython",
    "version": 3
   },
   "file_extension": ".py",
   "mimetype": "text/x-python",
   "name": "python",
   "nbconvert_exporter": "python",
   "pygments_lexer": "ipython3",
   "version": "3.7.6"
  }
 },
 "nbformat": 4,
 "nbformat_minor": 4
}
